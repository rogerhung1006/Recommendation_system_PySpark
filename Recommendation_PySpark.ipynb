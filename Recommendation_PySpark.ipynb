{
 "cells": [
  {
   "cell_type": "code",
   "execution_count": 1,
   "metadata": {},
   "outputs": [],
   "source": [
    "from pyspark.sql import SparkSession\n",
    "from pyspark import SparkContext\n",
    "import pandas as pd\n",
    "import numpy as np\n",
    "from pyspark.ml.recommendation import ALS\n",
    "from pyspark.ml.evaluation import RegressionEvaluator\n",
    "from pyspark.ml.tuning import ParamGridBuilder, CrossValidator"
   ]
  },
  {
   "cell_type": "markdown",
   "metadata": {},
   "source": [
    "## Data Source\n",
    "https://grouplens.org/datasets/movielens/"
   ]
  },
  {
   "cell_type": "code",
   "execution_count": 5,
   "metadata": {},
   "outputs": [
    {
     "data": {
      "text/html": [
       "<div>\n",
       "<style scoped>\n",
       "    .dataframe tbody tr th:only-of-type {\n",
       "        vertical-align: middle;\n",
       "    }\n",
       "\n",
       "    .dataframe tbody tr th {\n",
       "        vertical-align: top;\n",
       "    }\n",
       "\n",
       "    .dataframe thead th {\n",
       "        text-align: right;\n",
       "    }\n",
       "</style>\n",
       "<table border=\"1\" class=\"dataframe\">\n",
       "  <thead>\n",
       "    <tr style=\"text-align: right;\">\n",
       "      <th></th>\n",
       "      <th>movieId</th>\n",
       "      <th>title</th>\n",
       "      <th>genres</th>\n",
       "    </tr>\n",
       "  </thead>\n",
       "  <tbody>\n",
       "    <tr>\n",
       "      <th>0</th>\n",
       "      <td>1</td>\n",
       "      <td>Toy Story (1995)</td>\n",
       "      <td>Adventure|Animation|Children|Comedy|Fantasy</td>\n",
       "    </tr>\n",
       "    <tr>\n",
       "      <th>1</th>\n",
       "      <td>2</td>\n",
       "      <td>Jumanji (1995)</td>\n",
       "      <td>Adventure|Children|Fantasy</td>\n",
       "    </tr>\n",
       "    <tr>\n",
       "      <th>2</th>\n",
       "      <td>3</td>\n",
       "      <td>Grumpier Old Men (1995)</td>\n",
       "      <td>Comedy|Romance</td>\n",
       "    </tr>\n",
       "    <tr>\n",
       "      <th>3</th>\n",
       "      <td>4</td>\n",
       "      <td>Waiting to Exhale (1995)</td>\n",
       "      <td>Comedy|Drama|Romance</td>\n",
       "    </tr>\n",
       "    <tr>\n",
       "      <th>4</th>\n",
       "      <td>5</td>\n",
       "      <td>Father of the Bride Part II (1995)</td>\n",
       "      <td>Comedy</td>\n",
       "    </tr>\n",
       "    <tr>\n",
       "      <th>...</th>\n",
       "      <td>...</td>\n",
       "      <td>...</td>\n",
       "      <td>...</td>\n",
       "    </tr>\n",
       "    <tr>\n",
       "      <th>9737</th>\n",
       "      <td>193581</td>\n",
       "      <td>Black Butler: Book of the Atlantic (2017)</td>\n",
       "      <td>Action|Animation|Comedy|Fantasy</td>\n",
       "    </tr>\n",
       "    <tr>\n",
       "      <th>9738</th>\n",
       "      <td>193583</td>\n",
       "      <td>No Game No Life: Zero (2017)</td>\n",
       "      <td>Animation|Comedy|Fantasy</td>\n",
       "    </tr>\n",
       "    <tr>\n",
       "      <th>9739</th>\n",
       "      <td>193585</td>\n",
       "      <td>Flint (2017)</td>\n",
       "      <td>Drama</td>\n",
       "    </tr>\n",
       "    <tr>\n",
       "      <th>9740</th>\n",
       "      <td>193587</td>\n",
       "      <td>Bungo Stray Dogs: Dead Apple (2018)</td>\n",
       "      <td>Action|Animation</td>\n",
       "    </tr>\n",
       "    <tr>\n",
       "      <th>9741</th>\n",
       "      <td>193609</td>\n",
       "      <td>Andrew Dice Clay: Dice Rules (1991)</td>\n",
       "      <td>Comedy</td>\n",
       "    </tr>\n",
       "  </tbody>\n",
       "</table>\n",
       "<p>9742 rows × 3 columns</p>\n",
       "</div>"
      ],
      "text/plain": [
       "      movieId                                      title  \\\n",
       "0           1                           Toy Story (1995)   \n",
       "1           2                             Jumanji (1995)   \n",
       "2           3                    Grumpier Old Men (1995)   \n",
       "3           4                   Waiting to Exhale (1995)   \n",
       "4           5         Father of the Bride Part II (1995)   \n",
       "...       ...                                        ...   \n",
       "9737   193581  Black Butler: Book of the Atlantic (2017)   \n",
       "9738   193583               No Game No Life: Zero (2017)   \n",
       "9739   193585                               Flint (2017)   \n",
       "9740   193587        Bungo Stray Dogs: Dead Apple (2018)   \n",
       "9741   193609        Andrew Dice Clay: Dice Rules (1991)   \n",
       "\n",
       "                                           genres  \n",
       "0     Adventure|Animation|Children|Comedy|Fantasy  \n",
       "1                      Adventure|Children|Fantasy  \n",
       "2                                  Comedy|Romance  \n",
       "3                            Comedy|Drama|Romance  \n",
       "4                                          Comedy  \n",
       "...                                           ...  \n",
       "9737              Action|Animation|Comedy|Fantasy  \n",
       "9738                     Animation|Comedy|Fantasy  \n",
       "9739                                        Drama  \n",
       "9740                             Action|Animation  \n",
       "9741                                       Comedy  \n",
       "\n",
       "[9742 rows x 3 columns]"
      ]
     },
     "execution_count": 5,
     "metadata": {},
     "output_type": "execute_result"
    }
   ],
   "source": [
    "movies = pd.read_csv(\"movies.csv\")\n",
    "movies"
   ]
  },
  {
   "cell_type": "code",
   "execution_count": 224,
   "metadata": {},
   "outputs": [
    {
     "data": {
      "text/plain": [
       "(9742, 3)"
      ]
     },
     "execution_count": 224,
     "metadata": {},
     "output_type": "execute_result"
    }
   ],
   "source": [
    "movies.shape"
   ]
  },
  {
   "cell_type": "code",
   "execution_count": null,
   "metadata": {},
   "outputs": [],
   "source": [
    "new_ratings = spark.read.csv(\"ratings.csv\", header=True)\n",
    "new_ratings = new_ratings.sample(withReplacement=False, fraction=0.5, seed=1234)"
   ]
  },
  {
   "cell_type": "code",
   "execution_count": 230,
   "metadata": {},
   "outputs": [
    {
     "name": "stdout",
     "output_type": "stream",
     "text": [
      "The ratings dataframe is 98.90% empty.\n",
      "CPU times: user 10.1 ms, sys: 4.45 ms, total: 14.5 ms\n",
      "Wall time: 2.11 s\n"
     ]
    }
   ],
   "source": [
    "%%time\n",
    "# Count the total number of ratings in the dataset\n",
    "numerator = new_ratings.select(\"rating\").count()\n",
    "\n",
    "# Count the number of distinct userIds and distinct movieIds\n",
    "num_users = new_ratings.select(\"userId\").distinct().count()\n",
    "num_movies = new_ratings.select(\"movieId\").distinct().count()\n",
    "\n",
    "# Set the denominator equal to the number of users multiplied by the number of movies\n",
    "denominator = num_users * num_movies\n",
    "\n",
    "# Divide the numerator by the denominator\n",
    "sparsity = (1.0 - (numerator *1.0)/denominator)*100\n",
    "print(\"The ratings dataframe is\", \"%.2f\" % sparsity + \"% empty.\")"
   ]
  },
  {
   "cell_type": "code",
   "execution_count": 221,
   "metadata": {},
   "outputs": [
    {
     "name": "stdout",
     "output_type": "stream",
     "text": [
      "Movie with the fewest ratings: \n",
      "+----------+\n",
      "|min(count)|\n",
      "+----------+\n",
      "|         1|\n",
      "+----------+\n",
      "\n",
      "Avg num ratings per movie: \n",
      "+----------------+\n",
      "|      avg(count)|\n",
      "+----------------+\n",
      "|6.71293459437858|\n",
      "+----------------+\n",
      "\n",
      "User with the fewest ratings: \n",
      "+----------+\n",
      "|min(count)|\n",
      "+----------+\n",
      "|         5|\n",
      "+----------+\n",
      "\n",
      "Avg num ratings per user: \n",
      "+-----------------+\n",
      "|       avg(count)|\n",
      "+-----------------+\n",
      "|82.61311475409836|\n",
      "+-----------------+\n",
      "\n",
      "CPU times: user 31.6 ms, sys: 18.6 ms, total: 50.1 ms\n",
      "Wall time: 5.45 s\n"
     ]
    }
   ],
   "source": [
    "%%time\n",
    "from pyspark.sql.functions import max, min, avg\n",
    "# Min num ratings for movies\n",
    "print(\"Movie with the fewest ratings: \")\n",
    "new_ratings.groupBy(\"movieId\").count().select(min(\"count\")).show()\n",
    "\n",
    "# Avg num ratings per movie\n",
    "print(\"Avg num ratings per movie: \")\n",
    "new_ratings.groupBy(\"movieId\").count().select(avg(\"count\")).show()\n",
    "\n",
    "# Min num ratings for user\n",
    "print(\"User with the fewest ratings: \")\n",
    "new_ratings.groupBy(\"userId\").count().select(min(\"count\")).show()\n",
    "\n",
    "# Avg num ratings per users\n",
    "print(\"Avg num ratings per user: \")\n",
    "new_ratings.groupBy(\"userId\").count().select(avg(\"count\")).show()"
   ]
  },
  {
   "cell_type": "code",
   "execution_count": 106,
   "metadata": {},
   "outputs": [
    {
     "name": "stdout",
     "output_type": "stream",
     "text": [
      "root\n",
      " |-- userId: string (nullable = true)\n",
      " |-- movieId: string (nullable = true)\n",
      " |-- rating: string (nullable = true)\n",
      " |-- timestamp: string (nullable = true)\n",
      "\n",
      "root\n",
      " |-- userId: integer (nullable = true)\n",
      " |-- movieId: integer (nullable = true)\n",
      " |-- rating: double (nullable = true)\n",
      "\n"
     ]
    }
   ],
   "source": [
    "# Use .printSchema() to see the datatypes of the ratings dataset\n",
    "new_ratings.printSchema()\n",
    "\n",
    "# Tell Spark to convert the columns to the proper data types\n",
    "new_ratings = new_ratings.select(new_ratings.userId.cast(\"integer\"), \n",
    "                                     new_ratings.movieId.cast(\"integer\"), \n",
    "                                     new_ratings.rating.cast(\"double\"))\n",
    "\n",
    "# Call .printSchema() again to confirm the columns are now in the correct format\n",
    "new_ratings.printSchema()"
   ]
  },
  {
   "cell_type": "code",
   "execution_count": 127,
   "metadata": {},
   "outputs": [],
   "source": [
    "# Create test and train set\n",
    "(training, testing) = new_ratings.randomSplit([.8, .2], seed=1234)"
   ]
  },
  {
   "cell_type": "code",
   "execution_count": null,
   "metadata": {},
   "outputs": [],
   "source": [
    "%%time\n",
    "# Import the required functions\n",
    "from pyspark.ml.recommendation import ALS\n",
    "from pyspark.ml.evaluation import RegressionEvaluator\n",
    "\n",
    "\n",
    "# Create ALS model\n",
    "als = ALS(userCol=\"userId\", itemCol=\"movieId\",\n",
    "          ratingCol=\"rating\", maxIter=20, coldStartStrategy=\"drop\", \n",
    "          nonnegative=True, implicitPrefs=False)\n",
    "\n",
    "# Fit model to training data\n",
    "model = als.fit(training)  \n",
    "\n",
    "# Generate predictions on test_data\n",
    "predictions = model.transform(test)\n",
    "\n",
    "# Tell Spark how to evaluate predictions\n",
    "evaluator = RegressionEvaluator(metricName=\"rmse\", labelCol=\"rating\",\n",
    "                                predictionCol=\"prediction\")\n",
    "# Obtain and print RMSE\n",
    "rmse = evaluator.evaluate(predictions)\n",
    "print(f'RMSE: {rmse}')"
   ]
  },
  {
   "cell_type": "code",
   "execution_count": 165,
   "metadata": {},
   "outputs": [
    {
     "name": "stdout",
     "output_type": "stream",
     "text": [
      "CPU times: user 12 s, sys: 2.84 s, total: 14.9 s\n",
      "Wall time: 1h 6min 33s\n"
     ]
    }
   ],
   "source": [
    "%%time\n",
    "sc.setCheckpointDir('/Users/Roger/Desktop/Brandeis/Spring2020/Self-project/PySpark/ml-1m')\n",
    "# Build generic ALS model without hyperparameters\n",
    "als = ALS(userCol=\"userId\", itemCol=\"movieId\", ratingCol=\"rating\", \n",
    "            coldStartStrategy=\"drop\", nonnegative = True, \n",
    "            implicitPrefs = False)\n",
    "\n",
    "# Tell Spark what values to try for each hyperparameter\n",
    "param_grid = ParamGridBuilder()\\\n",
    "                    .addGrid(als.rank, [50, 100, 120])\\\n",
    "                    .addGrid(als.maxIter, [5, 50, 80])\\\n",
    "                    .addGrid(als.regParam, [.05, .1, .5])\\\n",
    "                    .build()\n",
    "\n",
    "# Tell Spark how to evaluate model performance           \n",
    "evaluator = RegressionEvaluator(metricName=\"rmse\", labelCol=\"rating\", \n",
    "            predictionCol=\"prediction\")\n",
    "\n",
    "# Build cross validation step using CrossValidator \n",
    "cv_als = CrossValidator(estimator = als,\n",
    "                    estimatorParamMaps = param_grid,\n",
    "                    evaluator = evaluator,\n",
    "                    numFolds = 3)\n",
    "\n",
    "# Run the cv on the training data                    \n",
    "new_model = cv_als.fit(training)                    \n",
    "\n",
    "# Extract best combination of values from cross validation\n",
    "new_best_model = new_model.bestModel\n"
   ]
  },
  {
   "cell_type": "code",
   "execution_count": 178,
   "metadata": {},
   "outputs": [
    {
     "data": {
      "text/plain": [
       "ALS_73a185fc1ba6"
      ]
     },
     "execution_count": 178,
     "metadata": {},
     "output_type": "execute_result"
    }
   ],
   "source": [
    " new_best_model"
   ]
  },
  {
   "cell_type": "code",
   "execution_count": 232,
   "metadata": {},
   "outputs": [
    {
     "name": "stdout",
     "output_type": "stream",
     "text": [
      "<class 'pyspark.ml.recommendation.ALSModel'>\n",
      "\n",
      "====Best Model===\n",
      "  Rank: 120\n",
      "  MaxIter: 50\n",
      "  RegParam: 0.1\n"
     ]
    }
   ],
   "source": [
    "print(type(new_best_model))\n",
    "print(\"\")\n",
    "print(\"====Best Model===\")\n",
    "\n",
    "# Print \"Rank\"\n",
    "print(\"  Rank:\", new_best_model._java_obj.parent().getRank())\n",
    "\n",
    "# Print \"MaxIter\"\n",
    "print(\"  MaxIter:\", new_best_model._java_obj.parent().getMaxIter())\n",
    "\n",
    "# Print \"RegParam\"\n",
    "print(\"  RegParam:\", new_best_model._java_obj.parent().getRegParam())"
   ]
  },
  {
   "cell_type": "code",
   "execution_count": 169,
   "metadata": {},
   "outputs": [
    {
     "name": "stdout",
     "output_type": "stream",
     "text": [
      "+------+-------+------+----------+\n",
      "|userId|movieId|rating|prediction|\n",
      "+------+-------+------+----------+\n",
      "|   541|    471|   3.0| 3.7734034|\n",
      "|   599|    833|   1.5| 1.8606207|\n",
      "|   608|    833|   0.5|  1.914421|\n",
      "|    84|   1088|   3.0| 2.9149926|\n",
      "|    10|   1088|   3.0| 2.6746564|\n",
      "|   116|   1088|   4.5| 3.0357797|\n",
      "|   587|   1238|   4.0| 3.9014268|\n",
      "|   223|   1342|   1.0| 1.6475196|\n",
      "|   232|   1580|   3.5| 3.7188938|\n",
      "|   111|   1580|   3.0| 2.8687918|\n",
      "|   474|   1580|   4.5| 3.4266531|\n",
      "|   542|   1580|   3.5| 3.2883322|\n",
      "|    45|   1580|   3.0| 3.9989038|\n",
      "|    82|   1580|   4.0|  3.597784|\n",
      "|   237|   1580|   4.5| 2.9974847|\n",
      "|   352|   1580|   2.5| 3.6041574|\n",
      "|   469|   1580|   3.0| 3.4081657|\n",
      "|   354|   1580|   3.5|  3.735845|\n",
      "|    67|   1580|   4.0| 3.2788165|\n",
      "|   399|   1580|   0.5|  4.124449|\n",
      "+------+-------+------+----------+\n",
      "only showing top 20 rows\n",
      "\n"
     ]
    }
   ],
   "source": [
    "new_test_predictions = new_best_model.transform(testing)\n",
    "new_test_predictions.show()"
   ]
  },
  {
   "cell_type": "code",
   "execution_count": 168,
   "metadata": {},
   "outputs": [
    {
     "name": "stdout",
     "output_type": "stream",
     "text": [
      "RMSE: 0.9636748778855049\n"
     ]
    }
   ],
   "source": [
    "# Obtain and print RMSE\n",
    "rmse = evaluator.evaluate(new_test_predictions)\n",
    "print(f'RMSE: {rmse}')"
   ]
  },
  {
   "cell_type": "code",
   "execution_count": 171,
   "metadata": {},
   "outputs": [
    {
     "name": "stdout",
     "output_type": "stream",
     "text": [
      "+-------+------+------+----------+--------------------+--------------------+\n",
      "|movieId|userId|rating|prediction|               title|              genres|\n",
      "+-------+------+------+----------+--------------------+--------------------+\n",
      "|    318|   162|   5.0|   5.32176|Shawshank Redempt...|         Crime|Drama|\n",
      "|    318|    52|   5.0| 5.1270366|Shawshank Redempt...|         Crime|Drama|\n",
      "|    296|   348|   5.0|  5.070769| Pulp Fiction (1994)|Comedy|Crime|Dram...|\n",
      "|    318|   122|   5.0| 5.0326896|Shawshank Redempt...|         Crime|Drama|\n",
      "|    858|   417|   5.0| 5.0283055|Godfather, The (1...|         Crime|Drama|\n",
      "|   2959|   296|   5.0| 5.0194983|   Fight Club (1999)|Action|Crime|Dram...|\n",
      "| 112552|   515|   5.0|  5.001726|     Whiplash (2014)|               Drama|\n",
      "|   1732|   122|   5.0| 4.9857078|Big Lebowski, The...|        Comedy|Crime|\n",
      "|   1208|   465|   5.0|  4.984627|Apocalypse Now (1...|    Action|Drama|War|\n",
      "|    364|    43|   5.0| 4.9801106|Lion King, The (1...|Adventure|Animati...|\n",
      "|   1201|   171|   5.0|  4.975332|Good, the Bad and...|Action|Adventure|...|\n",
      "|   1136|   348|   4.5| 4.9602985|Monty Python and ...|Adventure|Comedy|...|\n",
      "|   1213|   220|   5.0|  4.957315|   Goodfellas (1990)|         Crime|Drama|\n",
      "|   2959|   523|   4.5| 4.9512634|   Fight Club (1999)|Action|Crime|Dram...|\n",
      "|  58559|    25|   5.0|  4.949626|Dark Knight, The ...|Action|Crime|Dram...|\n",
      "|    608|   348|   5.0| 4.9489193|        Fargo (1996)|Comedy|Crime|Dram...|\n",
      "|   1193|   597|   5.0| 4.9469843|One Flew Over the...|               Drama|\n",
      "|    293|    99|   5.0| 4.9322643|Léon: The Profess...|Action|Crime|Dram...|\n",
      "|  69844|   491|   5.0| 4.9227095|Harry Potter and ...|Adventure|Fantasy...|\n",
      "|   2858|   417|   4.0|  4.881535|American Beauty (...|       Drama|Romance|\n",
      "+-------+------+------+----------+--------------------+--------------------+\n",
      "only showing top 20 rows\n",
      "\n"
     ]
    }
   ],
   "source": [
    "new_recommendation = new_test_predictions.join(spark_movies, 'movieId', 'left')\\\n",
    "                                         .sort('prediction', ascending=False)\n",
    "new_recommendation.show()"
   ]
  },
  {
   "cell_type": "code",
   "execution_count": 179,
   "metadata": {},
   "outputs": [
    {
     "name": "stdout",
     "output_type": "stream",
     "text": [
      "User 50's Ratings:\n",
      "+-------+------+------+--------------------+--------------------+\n",
      "|movieId|userId|rating|               title|              genres|\n",
      "+-------+------+------+--------------------+--------------------+\n",
      "|   1232|    50|   4.0|      Stalker (1979)|Drama|Mystery|Sci-Fi|\n",
      "|    541|    50|   4.0| Blade Runner (1982)|Action|Sci-Fi|Thr...|\n",
      "|   2019|    50|   4.0|Seven Samurai (Sh...|Action|Adventure|...|\n",
      "|   6975|    50|   3.5|  Funny Games (1997)|Drama|Horror|Thri...|\n",
      "|  44555|    50|   3.5|Lives of Others, ...|Drama|Romance|Thr...|\n",
      "|   1278|    50|   3.5|Young Frankenstei...|      Comedy|Fantasy|\n",
      "|   1198|    50|   3.5|Raiders of the Lo...|    Action|Adventure|\n",
      "|   2712|    50|   3.5|Eyes Wide Shut (1...|Drama|Mystery|Thr...|\n",
      "|   8143|    50|   3.5|  Lola Montès (1955)|               Drama|\n",
      "|    914|    50|   3.0| My Fair Lady (1964)|Comedy|Drama|Musi...|\n",
      "|   1223|    50|   3.0|Grand Day Out wit...|Adventure|Animati...|\n",
      "|   1370|    50|   3.0|   Die Hard 2 (1990)|Action|Adventure|...|\n",
      "|   1921|    50|   3.0|           Pi (1998)|Drama|Sci-Fi|Thri...|\n",
      "|   8961|    50|   3.0|Incredibles, The ...|Action|Adventure|...|\n",
      "| 172013|    50|   3.0|Stefan Zweig: Far...|               Drama|\n",
      "|   5004|    50|   3.0|   Party, The (1968)|              Comedy|\n",
      "|   1273|    50|   3.0|  Down by Law (1986)|Comedy|Drama|Film...|\n",
      "|   3949|    50|   3.0|Requiem for a Dre...|               Drama|\n",
      "| 174055|    50|   2.5|      Dunkirk (2017)|Action|Drama|Thri...|\n",
      "|  55247|    50|   2.5|Into the Wild (2007)|Action|Adventure|...|\n",
      "+-------+------+------+--------------------+--------------------+\n",
      "only showing top 20 rows\n",
      "\n",
      "User 50s Recommendations:\n",
      "+-------+------+------+----------+--------------------+--------------------+\n",
      "|movieId|userId|rating|prediction|               title|              genres|\n",
      "+-------+------+------+----------+--------------------+--------------------+\n",
      "|    750|    50|   4.0|  3.469326|Dr. Strangelove o...|          Comedy|War|\n",
      "|   7748|    50|   4.0| 3.2748797|Pierrot le fou (1...|         Crime|Drama|\n",
      "|     32|    50|   3.0|  3.104672|Twelve Monkeys (a...|Mystery|Sci-Fi|Th...|\n",
      "|   2160|    50|   4.0| 3.0225413|Rosemary's Baby (...|Drama|Horror|Thri...|\n",
      "|    914|    50|   3.0| 3.0091143| My Fair Lady (1964)|Comedy|Drama|Musi...|\n",
      "|   1230|    50|   3.5| 2.9624524|   Annie Hall (1977)|      Comedy|Romance|\n",
      "|    969|    50|   3.5|  2.916551|African Queen, Th...|Adventure|Comedy|...|\n",
      "| 128620|    50|   3.5| 2.9083743|     Victoria (2015)| Crime|Drama|Romance|\n",
      "|   8368|    50|   3.0| 2.9052143|Harry Potter and ...|Adventure|Fantasy...|\n",
      "|    909|    50|   3.0| 2.8207333|Apartment, The (1...|Comedy|Drama|Romance|\n",
      "|   1079|    50|   2.5| 2.8008797|Fish Called Wanda...|        Comedy|Crime|\n",
      "|   4306|    50|   2.0| 2.7330644|        Shrek (2001)|Adventure|Animati...|\n",
      "|   4896|    50|   2.5|  2.587206|Harry Potter and ...|Adventure|Childre...|\n",
      "|   3114|    50|   3.0| 2.5857882|  Toy Story 2 (1999)|Adventure|Animati...|\n",
      "|  96079|    50|   2.5| 2.5392098|      Skyfall (2012)|Action|Adventure|...|\n",
      "| 134170|    50|   2.5| 2.4791088|    Kung Fury (2015)|Action|Comedy|Fan...|\n",
      "|  32657|    50|   3.5|  2.477568|Man Who Planted T...|     Animation|Drama|\n",
      "|   5810|    50|   2.0| 2.4722946|       8 Mile (2002)|               Drama|\n",
      "|  59784|    50|   2.5| 2.3316603|Kung Fu Panda (2008)|Action|Animation|...|\n",
      "|   8361|    50|   1.0| 2.1656926|Day After Tomorro...|Action|Adventure|...|\n",
      "+-------+------+------+----------+--------------------+--------------------+\n",
      "only showing top 20 rows\n",
      "\n"
     ]
    }
   ],
   "source": [
    "# Look at user 50's ratings\n",
    "print(\"User 50's Ratings:\")\n",
    "original.filter(original.userId == 50).sort(\"rating\", ascending = False).show()\n",
    "\n",
    "# Look at the movies recommended to user 50\n",
    "print(\"User 50s Recommendations:\")\n",
    "new_recommendation.filter(new_recommendation.userId == 50).show()\n"
   ]
  },
  {
   "cell_type": "code",
   "execution_count": 220,
   "metadata": {},
   "outputs": [
    {
     "name": "stdout",
     "output_type": "stream",
     "text": [
      "+-------+------+------+----------+--------------------+--------------------+\n",
      "|movieId|userId|rating|prediction|               title|              genres|\n",
      "+-------+------+------+----------+--------------------+--------------------+\n",
      "|    750|    50|   4.0|  3.469326|Dr. Strangelove o...|          Comedy|War|\n",
      "|   7748|    50|   4.0| 3.2748797|Pierrot le fou (1...|         Crime|Drama|\n",
      "|     32|    50|   3.0|  3.104672|Twelve Monkeys (a...|Mystery|Sci-Fi|Th...|\n",
      "|   2160|    50|   4.0| 3.0225413|Rosemary's Baby (...|Drama|Horror|Thri...|\n",
      "|   1230|    50|   3.5| 2.9624524|   Annie Hall (1977)|      Comedy|Romance|\n",
      "|    969|    50|   3.5|  2.916551|African Queen, Th...|Adventure|Comedy|...|\n",
      "| 128620|    50|   3.5| 2.9083743|     Victoria (2015)| Crime|Drama|Romance|\n",
      "|   8368|    50|   3.0| 2.9052143|Harry Potter and ...|Adventure|Fantasy...|\n",
      "|    909|    50|   3.0| 2.8207333|Apartment, The (1...|Comedy|Drama|Romance|\n",
      "|   1079|    50|   2.5| 2.8008797|Fish Called Wanda...|        Comedy|Crime|\n",
      "|   4306|    50|   2.0| 2.7330644|        Shrek (2001)|Adventure|Animati...|\n",
      "|   4896|    50|   2.5|  2.587206|Harry Potter and ...|Adventure|Childre...|\n",
      "|   3114|    50|   3.0| 2.5857882|  Toy Story 2 (1999)|Adventure|Animati...|\n",
      "|  96079|    50|   2.5| 2.5392098|      Skyfall (2012)|Action|Adventure|...|\n",
      "| 134170|    50|   2.5| 2.4791088|    Kung Fury (2015)|Action|Comedy|Fan...|\n",
      "|  32657|    50|   3.5|  2.477568|Man Who Planted T...|     Animation|Drama|\n",
      "|   5810|    50|   2.0| 2.4722946|       8 Mile (2002)|               Drama|\n",
      "|  59784|    50|   2.5| 2.3316603|Kung Fu Panda (2008)|Action|Animation|...|\n",
      "|   8361|    50|   1.0| 2.1656926|Day After Tomorro...|Action|Adventure|...|\n",
      "| 111921|    50|   2.5|  2.101396|The Fault in Our ...|       Drama|Romance|\n",
      "+-------+------+------+----------+--------------------+--------------------+\n",
      "only showing top 20 rows\n",
      "\n"
     ]
    }
   ],
   "source": [
    "user_50_original = original.filter(original.userId == 50)\n",
    "user_50_recommendation = new_recommendation.filter(new_recommendation.userId == 50)\n",
    "\n",
    "# Get unique recommendations for user 50\n",
    "user_50_recommendation.join(user_50_original, 'movieId', 'left_anti').sort('prediction', ascending=False).show()\n"
   ]
  }
 ],
 "metadata": {
  "kernelspec": {
   "display_name": "Python 3",
   "language": "python",
   "name": "python3"
  },
  "language_info": {
   "codemirror_mode": {
    "name": "ipython",
    "version": 3
   },
   "file_extension": ".py",
   "mimetype": "text/x-python",
   "name": "python",
   "nbconvert_exporter": "python",
   "pygments_lexer": "ipython3",
   "version": "3.7.3"
  },
  "toc": {
   "base_numbering": 1,
   "nav_menu": {},
   "number_sections": true,
   "sideBar": true,
   "skip_h1_title": false,
   "title_cell": "Table of Contents",
   "title_sidebar": "Contents",
   "toc_cell": false,
   "toc_position": {
    "height": "calc(100% - 180px)",
    "left": "10px",
    "top": "150px",
    "width": "284.444px"
   },
   "toc_section_display": true,
   "toc_window_display": true
  }
 },
 "nbformat": 4,
 "nbformat_minor": 4
}
